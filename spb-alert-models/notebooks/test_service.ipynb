{
 "cells": [
  {
   "cell_type": "code",
   "execution_count": 1,
   "metadata": {},
   "outputs": [],
   "source": [
    "import requests as r\n",
    "import random"
   ]
  },
  {
   "cell_type": "code",
   "execution_count": 17,
   "metadata": {},
   "outputs": [],
   "source": [
    "def gen_event():\n",
    "    event = {'lat': 70 + random.random()*5,\n",
    "             'lon': 50 + random.random()*8,\n",
    "             'ts': 1546293673 + random.randint(-1000, 1000),\n",
    "             'event': 0}\n",
    "    return event"
   ]
  },
  {
   "cell_type": "code",
   "execution_count": 18,
   "metadata": {},
   "outputs": [],
   "source": [
    "url = 'http://0.0.0.0:5000/'"
   ]
  },
  {
   "cell_type": "code",
   "execution_count": 32,
   "metadata": {},
   "outputs": [
    {
     "data": {
      "text/plain": [
       "[{'cid': -1,\n",
       "  'event': 0,\n",
       "  'lat': 74.44100668746476,\n",
       "  'lon': 55.93196740050959,\n",
       "  'ts': 1546294508},\n",
       " {'cid': -1,\n",
       "  'event': 0,\n",
       "  'lat': 73.64468757525998,\n",
       "  'lon': 56.56591075485368,\n",
       "  'ts': 1546294262},\n",
       " {'cid': -1,\n",
       "  'event': 0,\n",
       "  'lat': 72.48048365358439,\n",
       "  'lon': 55.78518169580002,\n",
       "  'ts': 1546293812}]"
      ]
     },
     "execution_count": 32,
     "metadata": {},
     "output_type": "execute_result"
    }
   ],
   "source": [
    "method = 'processEvents'\n",
    "\n",
    "resp = r.get(url+method, json=[gen_event() for _ in range(3)])\n",
    "eval(resp.text)"
   ]
  },
  {
   "cell_type": "code",
   "execution_count": 33,
   "metadata": {},
   "outputs": [
    {
     "data": {
      "text/plain": [
       "{'prob': 0}"
      ]
     },
     "execution_count": 33,
     "metadata": {},
     "output_type": "execute_result"
    }
   ],
   "source": [
    "method = 'isClusterEmergency'\n",
    "\n",
    "resp = r.get(url+method, json=[gen_event() for _ in range(3)])\n",
    "eval(resp.text)"
   ]
  },
  {
   "cell_type": "code",
   "execution_count": 34,
   "metadata": {},
   "outputs": [
    {
     "data": {
      "text/plain": [
       "{'reasons': {'unusual_high_activity': {'importance': 0, 'perc': 3.0},\n",
       "  'unusual_pressure': {'importance': 0, 'perc': 1},\n",
       "  'unusual_temperature': {'importance': 0, 'perc': 1},\n",
       "  'unusual_visibility': {'importance': 0, 'perc': 1},\n",
       "  'unusual_wetness': {'importance': 0, 'perc': 1}}}"
      ]
     },
     "execution_count": 34,
     "metadata": {},
     "output_type": "execute_result"
    }
   ],
   "source": [
    "method = 'getClusterEmergencyReasons'\n",
    "\n",
    "resp = r.get(url+method, json=[gen_event() for _ in range(3)])\n",
    "eval(resp.text)"
   ]
  },
  {
   "cell_type": "markdown",
   "metadata": {},
   "source": [
    "# Develop check emergency"
   ]
  },
  {
   "cell_type": "code",
   "execution_count": 7,
   "metadata": {},
   "outputs": [],
   "source": [
    "import pandas as pd\n",
    "import time\n",
    "to_timestamp = lambda strdate: int(time.mktime(time.strptime(str(strdate), '%Y-%m-%d %H:%M:%S')))\n",
    "import matplotlib.pyplot as plt\n",
    "from tqdm.notebook import tqdm\n",
    "\n",
    "from models.cdbscan import Event, ContinuosCluster\n",
    "from models.models import ClusteringModel"
   ]
  },
  {
   "cell_type": "code",
   "execution_count": 8,
   "metadata": {},
   "outputs": [
    {
     "data": {
      "text/html": [
       "<div>\n",
       "<style scoped>\n",
       "    .dataframe tbody tr th:only-of-type {\n",
       "        vertical-align: middle;\n",
       "    }\n",
       "\n",
       "    .dataframe tbody tr th {\n",
       "        vertical-align: top;\n",
       "    }\n",
       "\n",
       "    .dataframe thead th {\n",
       "        text-align: right;\n",
       "    }\n",
       "</style>\n",
       "<table border=\"1\" class=\"dataframe\">\n",
       "  <thead>\n",
       "    <tr style=\"text-align: right;\">\n",
       "      <th></th>\n",
       "      <th>timestamp</th>\n",
       "      <th>lat</th>\n",
       "      <th>lon</th>\n",
       "      <th>T</th>\n",
       "      <th>P</th>\n",
       "      <th>U</th>\n",
       "      <th>VV</th>\n",
       "    </tr>\n",
       "  </thead>\n",
       "  <tbody>\n",
       "    <tr>\n",
       "      <th>0</th>\n",
       "      <td>1546293673</td>\n",
       "      <td>59.937400</td>\n",
       "      <td>30.282000</td>\n",
       "      <td>-1.7</td>\n",
       "      <td>761.6</td>\n",
       "      <td>79.0</td>\n",
       "      <td>10.0</td>\n",
       "    </tr>\n",
       "    <tr>\n",
       "      <th>1</th>\n",
       "      <td>1546293709</td>\n",
       "      <td>59.936924</td>\n",
       "      <td>30.282853</td>\n",
       "      <td>-1.7</td>\n",
       "      <td>761.6</td>\n",
       "      <td>79.0</td>\n",
       "      <td>10.0</td>\n",
       "    </tr>\n",
       "    <tr>\n",
       "      <th>2</th>\n",
       "      <td>1546293713</td>\n",
       "      <td>59.946515</td>\n",
       "      <td>30.271703</td>\n",
       "      <td>-1.7</td>\n",
       "      <td>761.6</td>\n",
       "      <td>79.0</td>\n",
       "      <td>10.0</td>\n",
       "    </tr>\n",
       "    <tr>\n",
       "      <th>3</th>\n",
       "      <td>1546293725</td>\n",
       "      <td>59.945196</td>\n",
       "      <td>30.273266</td>\n",
       "      <td>-1.7</td>\n",
       "      <td>761.6</td>\n",
       "      <td>79.0</td>\n",
       "      <td>10.0</td>\n",
       "    </tr>\n",
       "    <tr>\n",
       "      <th>4</th>\n",
       "      <td>1546293760</td>\n",
       "      <td>59.945800</td>\n",
       "      <td>30.271000</td>\n",
       "      <td>-1.7</td>\n",
       "      <td>761.6</td>\n",
       "      <td>79.0</td>\n",
       "      <td>10.0</td>\n",
       "    </tr>\n",
       "  </tbody>\n",
       "</table>\n",
       "</div>"
      ],
      "text/plain": [
       "    timestamp        lat        lon    T      P     U    VV\n",
       "0  1546293673  59.937400  30.282000 -1.7  761.6  79.0  10.0\n",
       "1  1546293709  59.936924  30.282853 -1.7  761.6  79.0  10.0\n",
       "2  1546293713  59.946515  30.271703 -1.7  761.6  79.0  10.0\n",
       "3  1546293725  59.945196  30.273266 -1.7  761.6  79.0  10.0\n",
       "4  1546293760  59.945800  30.271000 -1.7  761.6  79.0  10.0"
      ]
     },
     "execution_count": 8,
     "metadata": {},
     "output_type": "execute_result"
    }
   ],
   "source": [
    "df = pd.read_excel('../data/raw/new_Dataset3_Dtp.xlsx')\n",
    "df['timestamp'] = list(map(to_timestamp, df['Время регистрации']))\n",
    "df['lat'] = df['Широта']\n",
    "df['lon'] = df['Долгота']\n",
    "df = df['timestamp lat lon T P U VV'.split()]\n",
    "df = df[df.isna().sum(axis=1) == 0]\n",
    "df.head()"
   ]
  },
  {
   "cell_type": "code",
   "execution_count": 10,
   "metadata": {},
   "outputs": [
    {
     "data": {
      "text/plain": [
       "timestamp    1.000000\n",
       "lat          0.964387\n",
       "lon          0.930828\n",
       "T            0.811452\n",
       "P            0.997367\n",
       "U            0.970900\n",
       "VV           0.805502\n",
       "dtype: float64"
      ]
     },
     "execution_count": 10,
     "metadata": {},
     "output_type": "execute_result"
    }
   ],
   "source": [
    "(df.mean()-1) / (df.mean()+1)"
   ]
  },
  {
   "cell_type": "code",
   "execution_count": null,
   "metadata": {},
   "outputs": [],
   "source": [
    "def build_events(events_data):\n",
    "    events = []\n",
    "    for (ts, lat, lon) in events_data:\n",
    "        events.append(Event(lat, lon, ts))\n",
    "    return events"
   ]
  },
  {
   "cell_type": "code",
   "execution_count": null,
   "metadata": {},
   "outputs": [],
   "source": [
    "last_ts = 1576200000\n",
    "subdf = df[df.timestamp < last_ts]\n",
    "subdf.shape, df.shape"
   ]
  },
  {
   "cell_type": "code",
   "execution_count": null,
   "metadata": {},
   "outputs": [],
   "source": [
    "interval = 60*60*4 # by two hours"
   ]
  },
  {
   "cell_type": "code",
   "execution_count": null,
   "metadata": {},
   "outputs": [],
   "source": [
    "start_ts = int(subdf.loc[0].timestamp.item())\n",
    "stop_ts = int(subdf.loc[len(subdf)-1].timestamp.item())\n",
    "model = ClusteringModel(0.01, 4, 60*10)"
   ]
  },
  {
   "cell_type": "code",
   "execution_count": null,
   "metadata": {},
   "outputs": [],
   "source": [
    "# explore avg cluster info\n",
    "avg_clusters_timestamps = []\n",
    "avg_clusters = []\n",
    "\n",
    "for start in tqdm(range(start_ts, stop_ts, interval//2)):\n",
    "    events = subdf[(subdf.timestamp > start) & (subdf.timestamp < start+interval)]\n",
    "    events = build_events(events.to_records(index=False))\n",
    "    \n",
    "    if len(events) < 2:\n",
    "        continue\n",
    "    \n",
    "    labels = model.fit(events)\n",
    "    clusters = [ContinuosCluster([]) for _ in range(max(0, max(labels)+1))]\n",
    "    for i, event in enumerate(events):\n",
    "        if labels[i] != -1:\n",
    "            clusters[labels[i]].add(event)\n",
    "    \n",
    "    avg_clusters.append(clusters)\n",
    "    avg_clusters_timestamps.append(start_ts + interval//2)"
   ]
  },
  {
   "cell_type": "code",
   "execution_count": null,
   "metadata": {},
   "outputs": [],
   "source": [
    "# clusters count\n",
    "_ = plt.figure(figsize=(20, 4))\n",
    "_ = plt.plot(list(map(len, avg_clusters)))"
   ]
  },
  {
   "cell_type": "code",
   "execution_count": null,
   "metadata": {},
   "outputs": [],
   "source": [
    "# avg points in clusters\n",
    "_ = plt.figure(figsize=(20, 4))\n",
    "def get_avg_points_n(avg_clusters):\n",
    "    mean = lambda arr: sum(arr)/max(1, len(arr))\n",
    "    avg_points_n = []\n",
    "    for clusters in avg_clusters:\n",
    "        avg_p_n = mean(list(map(lambda cl: len(cl.events), clusters)))\n",
    "        avg_points_n.append(avg_p_n)\n",
    "    return avg_points_n\n",
    "        \n",
    "_ = plt.plot(get_avg_points_n(avg_clusters))"
   ]
  },
  {
   "cell_type": "code",
   "execution_count": null,
   "metadata": {},
   "outputs": [],
   "source": []
  },
  {
   "cell_type": "code",
   "execution_count": null,
   "metadata": {},
   "outputs": [],
   "source": []
  },
  {
   "cell_type": "code",
   "execution_count": null,
   "metadata": {},
   "outputs": [],
   "source": []
  },
  {
   "cell_type": "code",
   "execution_count": null,
   "metadata": {},
   "outputs": [],
   "source": []
  }
 ],
 "metadata": {
  "kernelspec": {
   "display_name": "Python 3",
   "language": "python",
   "name": "python3"
  },
  "language_info": {
   "codemirror_mode": {
    "name": "ipython",
    "version": 3
   },
   "file_extension": ".py",
   "mimetype": "text/x-python",
   "name": "python",
   "nbconvert_exporter": "python",
   "pygments_lexer": "ipython3",
   "version": "3.6.9"
  }
 },
 "nbformat": 4,
 "nbformat_minor": 4
}
