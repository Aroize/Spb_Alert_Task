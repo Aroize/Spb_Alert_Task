{
 "cells": [
  {
   "cell_type": "code",
   "execution_count": 1,
   "metadata": {},
   "outputs": [],
   "source": [
    "import requests as r\n",
    "import random"
   ]
  },
  {
   "cell_type": "code",
   "execution_count": 2,
   "metadata": {},
   "outputs": [],
   "source": [
    "def gen_event():\n",
    "    event = {'lat': 70 + random.random()*5,\n",
    "             'lon': 50 + random.random()*8,\n",
    "             'ts': 1300000 + random.randint(0, 1000),\n",
    "             'event': 0}\n",
    "    return event"
   ]
  },
  {
   "cell_type": "code",
   "execution_count": 3,
   "metadata": {},
   "outputs": [],
   "source": [
    "url = 'http://0.0.0.0:5000/'"
   ]
  },
  {
   "cell_type": "code",
   "execution_count": 23,
   "metadata": {},
   "outputs": [
    {
     "data": {
      "text/plain": [
       "[{'cid': -1,\n",
       "  'event': 0,\n",
       "  'lat': 71.80574624437804,\n",
       "  'lone': 51.75064239754856,\n",
       "  'ts': 1300804},\n",
       " {'cid': -1,\n",
       "  'event': 0,\n",
       "  'lat': 74.71685858924404,\n",
       "  'lone': 51.711011032961345,\n",
       "  'ts': 1300839},\n",
       " {'cid': -1,\n",
       "  'event': 0,\n",
       "  'lat': 73.95593716997293,\n",
       "  'lone': 51.369525385002056,\n",
       "  'ts': 1300765}]"
      ]
     },
     "execution_count": 23,
     "metadata": {},
     "output_type": "execute_result"
    }
   ],
   "source": [
    "method = 'processEvents'\n",
    "\n",
    "resp = r.get(url+method, json=[gen_event() for _ in range(3)])\n",
    "eval(resp.text)"
   ]
  },
  {
   "cell_type": "code",
   "execution_count": 24,
   "metadata": {},
   "outputs": [
    {
     "data": {
      "text/plain": [
       "{'prob': 1}"
      ]
     },
     "execution_count": 24,
     "metadata": {},
     "output_type": "execute_result"
    }
   ],
   "source": [
    "method = 'isClusterEmergency'\n",
    "\n",
    "resp = r.get(url+method, json=[gen_event() for _ in range(3)])\n",
    "eval(resp.text)"
   ]
  },
  {
   "cell_type": "code",
   "execution_count": 25,
   "metadata": {},
   "outputs": [
    {
     "data": {
      "text/plain": [
       "{'reasons': {'unusual_high_activity': {'importance': 3.0, 'perc': 3.0}}}"
      ]
     },
     "execution_count": 25,
     "metadata": {},
     "output_type": "execute_result"
    }
   ],
   "source": [
    "method = 'getClusterEmergencyReasons'\n",
    "\n",
    "resp = r.get(url+method, json=[gen_event() for _ in range(3)])\n",
    "eval(resp.text)"
   ]
  },
  {
   "cell_type": "markdown",
   "metadata": {},
   "source": [
    "# Develop check emergency"
   ]
  },
  {
   "cell_type": "code",
   "execution_count": null,
   "metadata": {},
   "outputs": [],
   "source": [
    "import pandas as pd\n",
    "import time\n",
    "to_timestamp = lambda strdate: int(time.mktime(time.strptime(str(strdate), '%Y-%m-%d %H:%M:%S')))\n",
    "import matplotlib.pyplot as plt\n",
    "from tqdm.notebook import tqdm\n",
    "\n",
    "from models.cdbscan import Event, ContinuosCluster\n",
    "from models.models import ClusteringModel"
   ]
  },
  {
   "cell_type": "code",
   "execution_count": null,
   "metadata": {},
   "outputs": [],
   "source": [
    "df = pd.read_excel('../data/raw/Датасет3_Дтп.xlsx')\n",
    "df['timestamp'] = list(map(to_timestamp, df['Время регистрации']))\n",
    "df['lat'] = df['Широта']\n",
    "df['lon'] = df['Долгота']\n",
    "df = df.drop('Время регистрации\tКатегория\tИдентификатор Еас адреса\tИдентификатор Еас здания\tШирота\tДолгота\tРайон'.split('\\t'), axis=1)"
   ]
  },
  {
   "cell_type": "code",
   "execution_count": null,
   "metadata": {},
   "outputs": [],
   "source": [
    "def build_events(events_data):\n",
    "    events = []\n",
    "    for (ts, lat, lon) in events_data:\n",
    "        events.append(Event(lat, lon, ts))\n",
    "    return events"
   ]
  },
  {
   "cell_type": "code",
   "execution_count": null,
   "metadata": {},
   "outputs": [],
   "source": [
    "last_ts = 1576200000\n",
    "subdf = df[df.timestamp < last_ts]\n",
    "subdf.shape, df.shape"
   ]
  },
  {
   "cell_type": "code",
   "execution_count": null,
   "metadata": {},
   "outputs": [],
   "source": [
    "interval = 60*60*4 # by two hours"
   ]
  },
  {
   "cell_type": "code",
   "execution_count": null,
   "metadata": {},
   "outputs": [],
   "source": [
    "start_ts = int(subdf.loc[0].timestamp.item())\n",
    "stop_ts = int(subdf.loc[len(subdf)-1].timestamp.item())\n",
    "model = ClusteringModel(0.01, 4, 60*10)"
   ]
  },
  {
   "cell_type": "code",
   "execution_count": null,
   "metadata": {},
   "outputs": [],
   "source": [
    "# explore avg cluster info\n",
    "avg_clusters_timestamps = []\n",
    "avg_clusters = []\n",
    "\n",
    "for start in tqdm(range(start_ts, stop_ts, interval//2)):\n",
    "    events = subdf[(subdf.timestamp > start) & (subdf.timestamp < start+interval)]\n",
    "    events = build_events(events.to_records(index=False))\n",
    "    \n",
    "    if len(events) < 2:\n",
    "        continue\n",
    "    \n",
    "    labels = model.fit(events)\n",
    "    clusters = [ContinuosCluster([]) for _ in range(max(0, max(labels)+1))]\n",
    "    for i, event in enumerate(events):\n",
    "        if labels[i] != -1:\n",
    "            clusters[labels[i]].add(event)\n",
    "    \n",
    "    avg_clusters.append(clusters)\n",
    "    avg_clusters_timestamps.append(start_ts + interval//2)"
   ]
  },
  {
   "cell_type": "code",
   "execution_count": null,
   "metadata": {},
   "outputs": [],
   "source": [
    "# clusters count\n",
    "_ = plt.figure(figsize=(20, 4))\n",
    "_ = plt.plot(list(map(len, avg_clusters)))"
   ]
  },
  {
   "cell_type": "code",
   "execution_count": null,
   "metadata": {},
   "outputs": [],
   "source": [
    "# avg points in clusters\n",
    "_ = plt.figure(figsize=(20, 4))\n",
    "def get_avg_points_n(avg_clusters):\n",
    "    mean = lambda arr: sum(arr)/max(1, len(arr))\n",
    "    avg_points_n = []\n",
    "    for clusters in avg_clusters:\n",
    "        avg_p_n = mean(list(map(lambda cl: len(cl.events), clusters)))\n",
    "        avg_points_n.append(avg_p_n)\n",
    "    return avg_points_n\n",
    "        \n",
    "_ = plt.plot(get_avg_points_n(avg_clusters))"
   ]
  },
  {
   "cell_type": "code",
   "execution_count": null,
   "metadata": {},
   "outputs": [],
   "source": []
  },
  {
   "cell_type": "code",
   "execution_count": null,
   "metadata": {},
   "outputs": [],
   "source": []
  },
  {
   "cell_type": "code",
   "execution_count": null,
   "metadata": {},
   "outputs": [],
   "source": []
  },
  {
   "cell_type": "code",
   "execution_count": null,
   "metadata": {},
   "outputs": [],
   "source": []
  }
 ],
 "metadata": {
  "kernelspec": {
   "display_name": "Python 3",
   "language": "python",
   "name": "python3"
  },
  "language_info": {
   "codemirror_mode": {
    "name": "ipython",
    "version": 3
   },
   "file_extension": ".py",
   "mimetype": "text/x-python",
   "name": "python",
   "nbconvert_exporter": "python",
   "pygments_lexer": "ipython3",
   "version": "3.6.9"
  }
 },
 "nbformat": 4,
 "nbformat_minor": 4
}
