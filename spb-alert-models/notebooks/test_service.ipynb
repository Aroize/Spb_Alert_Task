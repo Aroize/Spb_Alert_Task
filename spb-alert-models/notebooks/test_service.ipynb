{
 "cells": [
  {
   "cell_type": "code",
   "execution_count": 3,
   "metadata": {},
   "outputs": [],
   "source": [
    "import requests as r\n",
    "import random"
   ]
  },
  {
   "cell_type": "code",
   "execution_count": 2,
   "metadata": {},
   "outputs": [],
   "source": [
    "url = 'http://0.0.0.0:5000/'"
   ]
  },
  {
   "cell_type": "code",
   "execution_count": 9,
   "metadata": {},
   "outputs": [
    {
     "data": {
      "text/plain": [
       "[{'cid': -1,\n",
       "  'event': 0,\n",
       "  'lat': 73.28474265873717,\n",
       "  'lone': 57.208551786622806,\n",
       "  'ts': 1300998},\n",
       " {'cid': -1,\n",
       "  'event': 0,\n",
       "  'lat': 74.79635993716875,\n",
       "  'lone': 54.906678164341784,\n",
       "  'ts': 1300930},\n",
       " {'cid': -1,\n",
       "  'event': 0,\n",
       "  'lat': 72.2682875401847,\n",
       "  'lone': 50.167053206442276,\n",
       "  'ts': 1300214},\n",
       " {'cid': -1,\n",
       "  'event': 0,\n",
       "  'lat': 74.61958494961792,\n",
       "  'lone': 54.305742811408095,\n",
       "  'ts': 1300322},\n",
       " {'cid': -1,\n",
       "  'event': 0,\n",
       "  'lat': 72.05115343789483,\n",
       "  'lone': 56.065553986909265,\n",
       "  'ts': 1300034},\n",
       " {'cid': -1,\n",
       "  'event': 0,\n",
       "  'lat': 74.56093710936136,\n",
       "  'lone': 53.75849462311381,\n",
       "  'ts': 1300649},\n",
       " {'cid': -1,\n",
       "  'event': 0,\n",
       "  'lat': 73.90769252316258,\n",
       "  'lone': 51.987641918463986,\n",
       "  'ts': 1300051},\n",
       " {'cid': -1,\n",
       "  'event': 0,\n",
       "  'lat': 73.71394211271486,\n",
       "  'lone': 53.95295860604693,\n",
       "  'ts': 1300255},\n",
       " {'cid': -1,\n",
       "  'event': 0,\n",
       "  'lat': 70.4587916895992,\n",
       "  'lone': 57.69958553912723,\n",
       "  'ts': 1300967},\n",
       " {'cid': -1,\n",
       "  'event': 0,\n",
       "  'lat': 70.35503339987808,\n",
       "  'lone': 52.879474834510845,\n",
       "  'ts': 1301000}]"
      ]
     },
     "execution_count": 9,
     "metadata": {},
     "output_type": "execute_result"
    }
   ],
   "source": [
    "method = 'calc_clusters'\n",
    "\n",
    "def gen_event():\n",
    "    event = {'lat': 70 + random.random()*5,\n",
    "             'lon': 50 + random.random()*8,\n",
    "             'ts': 1300000 + random.randint(0, 1000),\n",
    "             'event': 0}\n",
    "    return event\n",
    "\n",
    "resp = r.get(url+method, json=[gen_event() for _ in range(10)])\n",
    "eval(resp.text)"
   ]
  },
  {
   "cell_type": "code",
   "execution_count": null,
   "metadata": {},
   "outputs": [],
   "source": []
  }
 ],
 "metadata": {
  "kernelspec": {
   "display_name": "Python 3",
   "language": "python",
   "name": "python3"
  },
  "language_info": {
   "codemirror_mode": {
    "name": "ipython",
    "version": 3
   },
   "file_extension": ".py",
   "mimetype": "text/x-python",
   "name": "python",
   "nbconvert_exporter": "python",
   "pygments_lexer": "ipython3",
   "version": "3.6.9"
  }
 },
 "nbformat": 4,
 "nbformat_minor": 4
}
