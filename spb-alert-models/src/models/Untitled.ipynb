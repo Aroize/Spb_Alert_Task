{
 "cells": [
  {
   "cell_type": "code",
   "execution_count": 1,
   "metadata": {},
   "outputs": [],
   "source": [
    "import pandas as pd\n",
    "import numpy as np\n",
    "import torch\n",
    "import matplotlib.pyplot as plt\n",
    "import time\n",
    "to_timestamp = lambda strdate: time.mktime(time.strptime(str(strdate), '%Y-%m-%d %H:%M:%S'))"
   ]
  },
  {
   "cell_type": "markdown",
   "metadata": {},
   "source": [
    "# Load and split data"
   ]
  },
  {
   "cell_type": "code",
   "execution_count": 2,
   "metadata": {},
   "outputs": [
    {
     "name": "stdout",
     "output_type": "stream",
     "text": [
      "(21493, 6)\n"
     ]
    },
    {
     "data": {
      "text/html": [
       "<div>\n",
       "<style scoped>\n",
       "    .dataframe tbody tr th:only-of-type {\n",
       "        vertical-align: middle;\n",
       "    }\n",
       "\n",
       "    .dataframe tbody tr th {\n",
       "        vertical-align: top;\n",
       "    }\n",
       "\n",
       "    .dataframe thead th {\n",
       "        text-align: right;\n",
       "    }\n",
       "</style>\n",
       "<table border=\"1\" class=\"dataframe\">\n",
       "  <thead>\n",
       "    <tr style=\"text-align: right;\">\n",
       "      <th></th>\n",
       "      <th>Категория</th>\n",
       "      <th>Идентификатор Еас адреса</th>\n",
       "      <th>Идентификатор Еас здания</th>\n",
       "      <th>Широта</th>\n",
       "      <th>Долгота</th>\n",
       "      <th>Район</th>\n",
       "    </tr>\n",
       "    <tr>\n",
       "      <th>Время регистрации</th>\n",
       "      <th></th>\n",
       "      <th></th>\n",
       "      <th></th>\n",
       "      <th></th>\n",
       "      <th></th>\n",
       "      <th></th>\n",
       "    </tr>\n",
       "  </thead>\n",
       "  <tbody>\n",
       "    <tr>\n",
       "      <th>2019-01-01 01:01:13</th>\n",
       "      <td>ДТП с пострадавшими людьми</td>\n",
       "      <td>NaN</td>\n",
       "      <td>NaN</td>\n",
       "      <td>59.937400</td>\n",
       "      <td>30.282000</td>\n",
       "      <td>Василеостровский</td>\n",
       "    </tr>\n",
       "    <tr>\n",
       "      <th>2019-01-01 01:01:49</th>\n",
       "      <td>ДТП с пострадавшими людьми</td>\n",
       "      <td>NaN</td>\n",
       "      <td>197864.0</td>\n",
       "      <td>59.936924</td>\n",
       "      <td>30.282853</td>\n",
       "      <td>Василеостровский</td>\n",
       "    </tr>\n",
       "    <tr>\n",
       "      <th>2019-01-01 01:01:53</th>\n",
       "      <td>ДТП с пострадавшими людьми</td>\n",
       "      <td>NaN</td>\n",
       "      <td>93814.0</td>\n",
       "      <td>59.946515</td>\n",
       "      <td>30.271703</td>\n",
       "      <td>Василеостровский</td>\n",
       "    </tr>\n",
       "  </tbody>\n",
       "</table>\n",
       "</div>"
      ],
      "text/plain": [
       "                                      Категория  Идентификатор Еас адреса  \\\n",
       "Время регистрации                                                           \n",
       "2019-01-01 01:01:13  ДТП с пострадавшими людьми                       NaN   \n",
       "2019-01-01 01:01:49  ДТП с пострадавшими людьми                       NaN   \n",
       "2019-01-01 01:01:53  ДТП с пострадавшими людьми                       NaN   \n",
       "\n",
       "                     Идентификатор Еас здания     Широта    Долгота  \\\n",
       "Время регистрации                                                     \n",
       "2019-01-01 01:01:13                       NaN  59.937400  30.282000   \n",
       "2019-01-01 01:01:49                  197864.0  59.936924  30.282853   \n",
       "2019-01-01 01:01:53                   93814.0  59.946515  30.271703   \n",
       "\n",
       "                                Район  \n",
       "Время регистрации                      \n",
       "2019-01-01 01:01:13  Василеостровский  \n",
       "2019-01-01 01:01:49  Василеостровский  \n",
       "2019-01-01 01:01:53  Василеостровский  "
      ]
     },
     "execution_count": 2,
     "metadata": {},
     "output_type": "execute_result"
    }
   ],
   "source": [
    "path = '../../data/raw/Датасет3_Дтп.xlsx'\n",
    "dataset_name = path.split('/')[-1][:-5]\n",
    "\n",
    "df = pd.read_excel(path, index_col='Время регистрации', parse_dates=True)\n",
    "df = df[(df['Широта']!=0) & (df['Долгота']!=0)]\n",
    "print(df.shape)\n",
    "df.head(3)"
   ]
  },
  {
   "cell_type": "code",
   "execution_count": null,
   "metadata": {},
   "outputs": [],
   "source": []
  },
  {
   "cell_type": "code",
   "execution_count": 8,
   "metadata": {},
   "outputs": [
    {
     "data": {
      "text/html": [
       "<div>\n",
       "<style scoped>\n",
       "    .dataframe tbody tr th:only-of-type {\n",
       "        vertical-align: middle;\n",
       "    }\n",
       "\n",
       "    .dataframe tbody tr th {\n",
       "        vertical-align: top;\n",
       "    }\n",
       "\n",
       "    .dataframe thead th {\n",
       "        text-align: right;\n",
       "    }\n",
       "</style>\n",
       "<table border=\"1\" class=\"dataframe\">\n",
       "  <thead>\n",
       "    <tr style=\"text-align: right;\">\n",
       "      <th></th>\n",
       "      <th>ab</th>\n",
       "      <th>Идентификатор Еас адреса</th>\n",
       "      <th>Идентификатор Еас здания</th>\n",
       "      <th>Широта</th>\n",
       "      <th>Долгота</th>\n",
       "      <th>Район</th>\n",
       "    </tr>\n",
       "    <tr>\n",
       "      <th>Время регистрации</th>\n",
       "      <th></th>\n",
       "      <th></th>\n",
       "      <th></th>\n",
       "      <th></th>\n",
       "      <th></th>\n",
       "      <th></th>\n",
       "    </tr>\n",
       "  </thead>\n",
       "  <tbody>\n",
       "    <tr>\n",
       "      <th>2020-08-12 22:11:33</th>\n",
       "      <td>ДТП с пострадавшими людьми</td>\n",
       "      <td>45734.0</td>\n",
       "      <td>36499.0</td>\n",
       "      <td>59.949145</td>\n",
       "      <td>30.348193</td>\n",
       "      <td>Центральный</td>\n",
       "    </tr>\n",
       "    <tr>\n",
       "      <th>2020-08-12 23:01:38</th>\n",
       "      <td>ДТП с пострадавшими людьми</td>\n",
       "      <td>448817.0</td>\n",
       "      <td>130108.0</td>\n",
       "      <td>59.834779</td>\n",
       "      <td>30.372879</td>\n",
       "      <td>Московский</td>\n",
       "    </tr>\n",
       "    <tr>\n",
       "      <th>2020-08-12 23:57:54</th>\n",
       "      <td>ДТП с пострадавшими людьми</td>\n",
       "      <td>104037.0</td>\n",
       "      <td>82898.0</td>\n",
       "      <td>59.746600</td>\n",
       "      <td>30.581741</td>\n",
       "      <td>Колпинский</td>\n",
       "    </tr>\n",
       "  </tbody>\n",
       "</table>\n",
       "</div>"
      ],
      "text/plain": [
       "                                             ab  Идентификатор Еас адреса  \\\n",
       "Время регистрации                                                           \n",
       "2020-08-12 22:11:33  ДТП с пострадавшими людьми                   45734.0   \n",
       "2020-08-12 23:01:38  ДТП с пострадавшими людьми                  448817.0   \n",
       "2020-08-12 23:57:54  ДТП с пострадавшими людьми                  104037.0   \n",
       "\n",
       "                     Идентификатор Еас здания     Широта    Долгота  \\\n",
       "Время регистрации                                                     \n",
       "2020-08-12 22:11:33                   36499.0  59.949145  30.348193   \n",
       "2020-08-12 23:01:38                  130108.0  59.834779  30.372879   \n",
       "2020-08-12 23:57:54                   82898.0  59.746600  30.581741   \n",
       "\n",
       "                           Район  \n",
       "Время регистрации                 \n",
       "2020-08-12 22:11:33  Центральный  \n",
       "2020-08-12 23:01:38   Московский  \n",
       "2020-08-12 23:57:54   Колпинский  "
      ]
     },
     "execution_count": 8,
     "metadata": {},
     "output_type": "execute_result"
    }
   ],
   "source": [
    "df.tail(3)"
   ]
  },
  {
   "cell_type": "code",
   "execution_count": null,
   "metadata": {},
   "outputs": [],
   "source": [
    "# 2019-01-01 - 2020-08-12"
   ]
  },
  {
   "cell_type": "code",
   "execution_count": 8,
   "metadata": {},
   "outputs": [
    {
     "data": {
      "text/plain": [
       "(16601, 5936)"
      ]
     },
     "execution_count": 8,
     "metadata": {},
     "output_type": "execute_result"
    }
   ],
   "source": [
    "train = df.loc['2019-01-01 01:01:13':'2020-03-01']\n",
    "test = df.loc['2020-02-02':'2020-08-12']\n",
    "len(train), len(test)"
   ]
  },
  {
   "cell_type": "markdown",
   "metadata": {},
   "source": [
    "# Feature data"
   ]
  },
  {
   "cell_type": "code",
   "execution_count": null,
   "metadata": {},
   "outputs": [],
   "source": [
    "class WeekDataset(torch.utils.data.Dataset):\n",
    "    def __init__(self, df):\n",
    "        timestamps = list(map(to_timestamp, df.index.tolist()))\n",
    "        x = sorted(list(set(timestamps)))\n",
    "        y = [timestamps.count(t) for t in x]\n",
    "        \n",
    "        \n",
    "        \n",
    "    def scale(self, x, y, k=60):\n",
    "        newx, newy = [], []\n",
    "        frm = int(min(x))\n",
    "        to  = int(max(x))\n",
    "        i = 0\n",
    "        for s in range(frm, to, k):\n",
    "            while x[i] < s:\n",
    "                i += 1\n",
    "            j = i\n",
    "            while x[j] < min(to, s+k):\n",
    "                j += 1\n",
    "            vals = y[i:j]\n",
    "            newx.append(len(newx))\n",
    "            newy.append(sum(vals))\n",
    "        return newx, newy"
   ]
  }
 ],
 "metadata": {
  "kernelspec": {
   "display_name": "Python 3",
   "language": "python",
   "name": "python3"
  },
  "language_info": {
   "codemirror_mode": {
    "name": "ipython",
    "version": 3
   },
   "file_extension": ".py",
   "mimetype": "text/x-python",
   "name": "python",
   "nbconvert_exporter": "python",
   "pygments_lexer": "ipython3",
   "version": "3.6.9"
  }
 },
 "nbformat": 4,
 "nbformat_minor": 4
}
